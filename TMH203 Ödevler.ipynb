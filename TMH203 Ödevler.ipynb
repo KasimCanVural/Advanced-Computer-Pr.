{
 "cells": [
  {
   "cell_type": "markdown",
   "id": "3c964d8a",
   "metadata": {},
   "source": [
    "## TMH203 ÖDEV\n"
   ]
  },
  {
   "cell_type": "markdown",
   "id": "b8418893",
   "metadata": {},
   "source": [
    "## MATEMETİKTE 4 İŞLEM İŞARETLERİ"
   ]
  },
  {
   "cell_type": "markdown",
   "id": "fb6bec4b",
   "metadata": {},
   "source": [
    "|İşaretler|Anlamı|\n",
    "|-----|-----|\n",
    "|+|Toplama İşlemi|\n",
    "|-|Çıkarma İşlemi|\n",
    "|*|Çarpma İşlemi|\n",
    "|/|Bölme İşlemi|\n",
    "\n",
    "\n",
    "* if\n",
    "* elif\n",
    "* else"
   ]
  },
  {
   "cell_type": "markdown",
   "id": "3b3ade3a",
   "metadata": {},
   "source": [
    "## Alfabedeki Harflere Denk Gelen Sayılar"
   ]
  },
  {
   "cell_type": "markdown",
   "id": "66007e9e",
   "metadata": {},
   "source": [
    "|Sayılar|Harfler|\n",
    "|-----|-----|\n",
    "|1|A|\n",
    "|2|B|\n",
    "|3|C|\n",
    "|4|Ç|\n",
    "|5|D|\n",
    "|6|E|\n",
    "|7|F|\n",
    "|8|G|\n",
    "|9|Ğ|\n",
    "|10|H|\n",
    "|11|I|\n",
    "|12|İ|\n",
    "|13|J|\n",
    "|14|K|\n",
    "|15|L|\n",
    "|16|M|\n",
    "|17|N|\n",
    "|18|O|\n",
    "|19|Ö|\n",
    "|20|P|\n",
    "|21|R|\n",
    "|22|S|\n",
    "|23|Ş|\n",
    "|24|T|\n",
    "|25|U|\n",
    "|26|Ü|\n",
    "|27|V|\n",
    "|28|Y|\n",
    "|29|Z|\n",
    "\n",
    "* if\n",
    "* elif\n",
    "* else\n",
    "\n"
   ]
  },
  {
   "cell_type": "code",
   "execution_count": 7,
   "id": "fa7e7d64",
   "metadata": {},
   "outputs": [
    {
     "name": "stdout",
     "output_type": "stream",
     "text": [
      "Bir sayı giriniz:5\n",
      "Sayı 50'den küçüktür\n"
     ]
    }
   ],
   "source": [
    "a=int(input(\"Bir sayı giriniz:\"))\n",
    "if a<50:\n",
    "    print(\"Sayı 50'den küçüktür\")\n",
    "elif a>50:\n",
    "        print(\"Sayı 50'den büyüktür\")\n",
    "else:\n",
    "            print(\"Sayı 50'dır\")\n",
    "            "
   ]
  },
  {
   "cell_type": "code",
   "execution_count": 16,
   "id": "bd3ddcdf",
   "metadata": {
    "scrolled": true
   },
   "outputs": [
    {
     "name": "stdout",
     "output_type": "stream",
     "text": [
      "x'e bir değer giriniz:5\n",
      "y'ye bir değer giriniz:6\n",
      "y sayısı x sayısından büyüktür.\n"
     ]
    }
   ],
   "source": [
    "x=int(input(\"x'e bir değer giriniz:\"))\n",
    "y=int(input(\"y'ye bir değer giriniz:\"))\n",
    "if x>y:\n",
    "    print(\"x sayısı y sayısından büyüktür.\")\n",
    "elif y>x:\n",
    "    print(\"y sayısı x sayısından büyüktür.\")\n",
    "else:\n",
    "    print(\"İki sayı birbirine eşittir\")"
   ]
  }
 ],
 "metadata": {
  "kernelspec": {
   "display_name": "Python 3",
   "language": "python",
   "name": "python3"
  },
  "language_info": {
   "codemirror_mode": {
    "name": "ipython",
    "version": 3
   },
   "file_extension": ".py",
   "mimetype": "text/x-python",
   "name": "python",
   "nbconvert_exporter": "python",
   "pygments_lexer": "ipython3",
   "version": "3.8.8"
  }
 },
 "nbformat": 4,
 "nbformat_minor": 5
}
